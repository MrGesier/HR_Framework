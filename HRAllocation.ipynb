import pandas as pd
import matplotlib.pyplot as plt

# --- Données d'entrée ---
phases = ["Pre-seed", "Strategic Angels", "Seed", "Strategic Bridge", "Series A", "Private Sale", "TGE", "Revenues"]
base_employees_per_phase = [5, 5, 10, 5, 5, 5, 10, 15]

# Fonction pour ajuster les employés proportionnellement à un nouveau total
def adjust_employees(employees_per_phase, new_total):
    current_total = sum(employees_per_phase)
    scaling_factor = new_total / current_total
    return [int(e * scaling_factor) for e in employees_per_phase]

# Allocation totale initiale et BTU de base
initial_total_tokens =60_000_000
base_BTU = initial_total_tokens // sum(base_employees_per_phase)  # BTU basé sur 200M de tokens

# Coefficients de risque ajustés pour chaque phase (exponentielle décroissante)
risk_coefficients = [1.0, 0.6223, 0.3873, 0.2410, 0.15, 0.0933, 0.0581, 0.0362]

# Données pour les coefficients SL, RI, et SC (écarts plus importants)
SL_values = {"Entry Level": 1, "Junior": 2, "Mid-Level": 3, "Senior": 4, "Lead/Principal": 6, "Manager": 8, "Division": 10}
RI_values = {"Engineering": 3, "Business Dev.": 4, "Legal": 4, "Marketing": 5, "Operations": 8, "Support": 1}
SC_values = {"<100k$": 1.5, "100-150k$": 1.3, "150-200k$": 1, "200k-250k$": 0.7, ">250k$": 0.5}

# Définir les choix centraux pour chaque phase
center_choices = {
    "Pre-seed": {"SL": "Manager", "RI": "Engineering", "SC": "100-150k$"},
    "Strategic Angels": {"SL": "Division", "RI": "Legal", "SC": "<100k$"},
    "Seed": {"SL": "Mid-Level", "RI": "Business Dev.", "SC": "150-200k$"},
    "Strategic Bridge": {"SL": "Senior", "RI": "Marketing", "SC": "200k-250k$"},
    "Series A": {"SL": "Lead/Principal", "RI": "Operations", "SC": ">250k$"},
    "Private Sale": {"SL": "Mid-Level", "RI": "Support", "SC": "<100k$"},
    "TGE": {"SL": "Mid-Level", "RI": "Operations", "SC": "100-150k$"},
    "Revenues": {"SL": "Manager", "RI": "Engineering", "SC": "150-200k$"}
}

# Fonction pour calculer le coefficient ajusté
def calculate_adjusted_coefficient(stage):
    SL_central = SL_values[center_choices[stage]["SL"]]
    RI_central = RI_values[center_choices[stage]["RI"]]
    SC_central = SC_values[center_choices[stage]["SC"]]
    return (SL_central + RI_central + SC_central) / 3

# Simulation de la déplétion des tokens
def simulate_depletion_with_adjustment(allocation, btu, risk_coefficients, employees_per_phase, phases):
    remaining_allocation = []

    for i, (employees, risk_coef, phase) in enumerate(zip(employees_per_phase, risk_coefficients, phases)):
        adjusted_coefficient = calculate_adjusted_coefficient(phase)
        for _ in range(employees):
            if allocation > 0:
                allocation_decrement = btu * risk_coef * adjusted_coefficient
                allocation -= allocation_decrement
                remaining_allocation.append(allocation / 1_000_000)  # En millions
    
    return remaining_allocation

# Scénarios avec différents nombres d'employés (65, 75, 85)
scenarios = [65, 75, 85]
colors = ['purple', 'blue', 'green']

# Initialiser le graphique pour la comparaison avec 200M de tokens
plt.figure(figsize=(12, 6))

for total_employees, color in zip(scenarios, colors):
    employees_per_phase = adjust_employees(base_employees_per_phase, total_employees)
    remaining_allocation_200M = simulate_depletion_with_adjustment(
        initial_total_tokens, base_BTU, risk_coefficients, employees_per_phase, phases
    )
    
    plt.plot(range(len(remaining_allocation_200M)), remaining_allocation_200M, marker='o', color=color, label=f"60M Tokens, Employees: {total_employees}")

# Comparaison avec 90M de tokens, même BTU de base
reduced_total_tokens = 90_000_000

for total_employees, color in zip(scenarios, colors):
    employees_per_phase = adjust_employees(base_employees_per_phase, total_employees)
    remaining_allocation_90M = simulate_depletion_with_adjustment(
        reduced_total_tokens, base_BTU, risk_coefficients, employees_per_phase, phases
    )
    
    plt.plot(range(len(remaining_allocation_90M)), remaining_allocation_90M, linestyle='--', marker='x', color=color, label=f"90M Tokens, Employees: {total_employees}")

# Configurer le graphique
plt.xlabel("Number of Employees Hired")
plt.ylabel("Remaining Allocation (Millions)")
plt.title("Depletion of Token Allocation with Different Total Allocations")
plt.grid(False)
plt.legend()
plt.tight_layout()
plt.show()
